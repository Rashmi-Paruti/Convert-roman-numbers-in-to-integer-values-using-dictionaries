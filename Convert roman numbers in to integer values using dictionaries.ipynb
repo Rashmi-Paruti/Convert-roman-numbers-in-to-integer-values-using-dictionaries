{
 "cells": [
  {
   "cell_type": "markdown",
   "metadata": {},
   "source": [
    "# Write a program to convert roman numbers in to integer values using dictionaries. "
   ]
  },
  {
   "cell_type": "code",
   "execution_count": 1,
   "metadata": {},
   "outputs": [],
   "source": [
    "def roman_to_integer(roman_numeral):\n",
    "    # Create a dictionary to map Roman numerals to integer values\n",
    "    roman_dict = {'I': 1, 'V': 5, 'X': 10, 'L': 50, 'C': 100, 'D': 500, 'M': 1000}\n",
    "    \n",
    "    # Initialize the variable to store the resulting integer value\n",
    "    integer_value = 0\n",
    "\n",
    "    # Iterate over each character in the Roman numeral string\n",
    "    for i in range(len(roman_numeral)):\n",
    "        # Get the integer value of the current character from the dictionary\n",
    "        current_value = roman_dict[roman_numeral[i]]\n",
    "        \n",
    "        # Check if there is a next character and if its value is greater than the current character\n",
    "        if i < len(roman_numeral) - 1 and roman_dict[roman_numeral[i + 1]] > current_value:\n",
    "            # If the next character's value is greater, subtract the current value from the total\n",
    "            integer_value -= current_value\n",
    "        else:\n",
    "            # Otherwise, add the current value to the total\n",
    "            integer_value += current_value\n",
    "    \n",
    "    # Return the resulting integer value\n",
    "    return integer_value\n"
   ]
  },
  {
   "cell_type": "code",
   "execution_count": 4,
   "metadata": {},
   "outputs": [
    {
     "name": "stdout",
     "output_type": "stream",
     "text": [
      "Enter a Roman numeral: IX\n",
      "Integer value: 9\n"
     ]
    }
   ],
   "source": [
    "# Test the function\n",
    "roman_numeral = input(\"Enter a Roman numeral: \")\n",
    "integer_value = roman_to_integer(roman_numeral)\n",
    "print(\"Integer value:\", integer_value)"
   ]
  }
 ],
 "metadata": {
  "kernelspec": {
   "display_name": "Python 3",
   "language": "python",
   "name": "python3"
  },
  "language_info": {
   "codemirror_mode": {
    "name": "ipython",
    "version": 3
   },
   "file_extension": ".py",
   "mimetype": "text/x-python",
   "name": "python",
   "nbconvert_exporter": "python",
   "pygments_lexer": "ipython3",
   "version": "3.7.4"
  }
 },
 "nbformat": 4,
 "nbformat_minor": 2
}
